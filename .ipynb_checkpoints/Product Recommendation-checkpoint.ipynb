{
 "cells": [
  {
   "cell_type": "markdown",
   "metadata": {},
   "source": [
    "# Considered different recommendation approaches:\n",
    "1) Content based recommendation\n",
    "2) Collaborative Filtering\n",
    "3) Item to Item Based Collaborative Filtering\n",
    "\n",
    "Content based Recommendation:\n",
    "Recommending articles similar to customer purchased articles\n",
    "\n",
    "Disadvantage:\n",
    "It can only recommend based on the existing interest of the customer and has limited ability to expand on existing interests.\n",
    "\n",
    "\n",
    "Collaborative Filtering:\n",
    "We find similar users and recommend articles purchased by similar users"
   ]
  },
  {
   "cell_type": "code",
   "execution_count": null,
   "metadata": {},
   "outputs": [],
   "source": []
  }
 ],
 "metadata": {
  "kernelspec": {
   "display_name": "Python 3",
   "language": "python",
   "name": "python3"
  },
  "language_info": {
   "codemirror_mode": {
    "name": "ipython",
    "version": 3
   },
   "file_extension": ".py",
   "mimetype": "text/x-python",
   "name": "python",
   "nbconvert_exporter": "python",
   "pygments_lexer": "ipython3",
   "version": "3.7.3"
  }
 },
 "nbformat": 4,
 "nbformat_minor": 2
}
